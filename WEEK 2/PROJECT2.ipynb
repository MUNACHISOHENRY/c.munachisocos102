{
 "cells": [
  {
   "cell_type": "code",
   "execution_count": null,
   "id": "6d8ce208-6ca2-4271-a1a3-28b3550cec9d",
   "metadata": {},
   "outputs": [],
   "source": []
  },
  {
   "cell_type": "code",
   "execution_count": 6,
   "id": "f8096cea-8672-43c1-82c1-3e379bf036ee",
   "metadata": {},
   "outputs": [
    {
     "name": "stderr",
     "output_type": "stream",
     "text": [
      "<>:31: SyntaxWarning: 'float' object is not callable; perhaps you missed a comma?\n",
      "<>:31: SyntaxWarning: 'float' object is not callable; perhaps you missed a comma?\n"
     ]
    },
    {
     "name": "stdout",
     "output_type": "stream",
     "text": [
      "Cubic equation calculator or Quadratic equation calculator?\n"
     ]
    },
    {
     "name": "stdin",
     "output_type": "stream",
     "text": [
      "Enter cubic value for Cubic equation calculator and quad value for Quadratic equation calculator   cubic\n"
     ]
    },
    {
     "name": "stderr",
     "output_type": "stream",
     "text": [
      "C:\\Users\\USER\\AppData\\Local\\Temp\\ipykernel_5060\\2518195283.py:31: SyntaxWarning: 'float' object is not callable; perhaps you missed a comma?\n",
      "  second_root = -0.5 (S + T ) - (b/3) + 0.5\n"
     ]
    },
    {
     "name": "stdin",
     "output_type": "stream",
     "text": [
      "Enter the coefficient of x^3 4\n",
      "Enter the coefficient of x^2 5\n",
      "Enter the coefficient of x 6\n",
      "Enter the constant of the equation 6\n"
     ]
    },
    {
     "ename": "TypeError",
     "evalue": "'float' object is not callable",
     "output_type": "error",
     "traceback": [
      "\u001b[1;31m---------------------------------------------------------------------------\u001b[0m",
      "\u001b[1;31mTypeError\u001b[0m                                 Traceback (most recent call last)",
      "Cell \u001b[1;32mIn[6], line 31\u001b[0m\n\u001b[0;32m     29\u001b[0m     T \u001b[38;5;241m=\u001b[39m (R \u001b[38;5;241m-\u001b[39m ((Q \u001b[38;5;241m*\u001b[39m\u001b[38;5;241m*\u001b[39m \u001b[38;5;241m3\u001b[39m \u001b[38;5;241m+\u001b[39m R \u001b[38;5;241m*\u001b[39m\u001b[38;5;241m*\u001b[39m \u001b[38;5;241m2\u001b[39m) \u001b[38;5;241m*\u001b[39m\u001b[38;5;241m*\u001b[39m \u001b[38;5;241m0.5\u001b[39m))\u001b[38;5;241m*\u001b[39m\u001b[38;5;241m*\u001b[39m \u001b[38;5;241m1\u001b[39m\u001b[38;5;241m/\u001b[39m\u001b[38;5;241m3\u001b[39m\n\u001b[0;32m     30\u001b[0m     first_root \u001b[38;5;241m=\u001b[39m S \u001b[38;5;241m+\u001b[39m T \u001b[38;5;241m-\u001b[39m b \u001b[38;5;241m/\u001b[39m\u001b[38;5;241m3\u001b[39m\n\u001b[1;32m---> 31\u001b[0m     second_root \u001b[38;5;241m=\u001b[39m \u001b[38;5;241m-\u001b[39m\u001b[38;5;241m0.5\u001b[39m (S \u001b[38;5;241m+\u001b[39m T ) \u001b[38;5;241m-\u001b[39m (b\u001b[38;5;241m/\u001b[39m\u001b[38;5;241m3\u001b[39m) \u001b[38;5;241m+\u001b[39m \u001b[38;5;241m0.5\u001b[39m\n\u001b[0;32m     33\u001b[0m \u001b[38;5;28;01melse\u001b[39;00m:\n\u001b[0;32m     34\u001b[0m     \u001b[38;5;28mprint\u001b[39m(\u001b[38;5;124m\"\u001b[39m\u001b[38;5;124mINVALID DATA\u001b[39m\u001b[38;5;124m\"\u001b[39m)\n",
      "\u001b[1;31mTypeError\u001b[0m: 'float' object is not callable"
     ]
    }
   ],
   "source": [
    "print(\"Cubic equation calculator or Quadratic equation calculator?\")\n",
    "\n",
    "choice = input(\"Enter cubic value for Cubic equation calculator and quad value for Quadratic equation calculator  \")\n",
    "if choice == \"quad\":\n",
    "    a = float(input(\"Enter a(coefficient of x^2) of the equation\"))\n",
    "    b = float(input(\"Enter b( coefficient of x) of the equation\"))\n",
    "    c = float(input(\"Enter c(constant) of the equation\"))\n",
    "\n",
    "    import math\n",
    "    d = (b) ** 2 - 4 * a * c\n",
    "    det = math.sqrt(d)\n",
    "\n",
    "    x1 = (- b + det ) / 2 * a\n",
    "    x2 = (- b - det ) / 2 * a\n",
    "\n",
    "    print(f\" First value of x is {x1}\")\n",
    "    print(f\" Second value of x is {x2}\")\n",
    "    \n",
    "\n",
    "elif choice == \"cubic\":\n",
    "    a = float(input(\"Enter the coefficient of x^3\"))\n",
    "    b = float(input(\"Enter the coefficient of x^2\"))\n",
    "    c = float(input(\"Enter the coefficient of x\"))\n",
    "    d =  float(input(\"Enter the constant of the equation\"))\n",
    "\n",
    "    Q = (3 * c - b ** 2)/9\n",
    "    R = (9*b*c - 27*d - 2*(b**3))/54\n",
    "    S = (R + ((Q ** 3 + R ** 2) ** 0.5)) ** 1/3\n",
    "    T = (R - ((Q ** 3 + R ** 2) ** 0.5))** 1/3\n",
    "    first_root = S + T - b /3\n",
    "    second_root = -0.5 (S + T ) - (b/3) + 0.5\n",
    "\n",
    "else:\n",
    "    print(\"INVALID DATA\")\n",
    "\n"
   ]
  },
  {
   "cell_type": "code",
   "execution_count": null,
   "id": "202ebecf-d9d1-42c6-a879-b1e9095e3299",
   "metadata": {},
   "outputs": [],
   "source": []
  },
  {
   "cell_type": "code",
   "execution_count": null,
   "id": "e2904c49-68fe-488a-a3a4-086a8947a0b7",
   "metadata": {},
   "outputs": [],
   "source": []
  },
  {
   "cell_type": "code",
   "execution_count": null,
   "id": "bff9c5bf-9180-4b3d-9ec2-31cb8c0e0902",
   "metadata": {},
   "outputs": [],
   "source": []
  },
  {
   "cell_type": "code",
   "execution_count": null,
   "id": "3c36befb-741e-43ad-8832-5bcbb2412443",
   "metadata": {},
   "outputs": [],
   "source": []
  },
  {
   "cell_type": "code",
   "execution_count": null,
   "id": "b662d3ee-08ba-4bbe-988a-5b44ff936145",
   "metadata": {},
   "outputs": [],
   "source": [
    "3"
   ]
  }
 ],
 "metadata": {
  "kernelspec": {
   "display_name": "Python 3 (ipykernel)",
   "language": "python",
   "name": "python3"
  },
  "language_info": {
   "codemirror_mode": {
    "name": "ipython",
    "version": 3
   },
   "file_extension": ".py",
   "mimetype": "text/x-python",
   "name": "python",
   "nbconvert_exporter": "python",
   "pygments_lexer": "ipython3",
   "version": "3.11.7"
  }
 },
 "nbformat": 4,
 "nbformat_minor": 5
}
