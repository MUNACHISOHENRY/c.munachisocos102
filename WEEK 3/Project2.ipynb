{
 "cells": [
  {
   "cell_type": "code",
   "execution_count": 25,
   "id": "5118b9b5-fa0e-4f63-a0e8-6fd133ca49a0",
   "metadata": {},
   "outputs": [
    {
     "name": "stdout",
     "output_type": "stream",
     "text": [
      "IZIFIN TECHONOLOGY FINTECH NIGERIA\n",
      "ANNUAL TAX REVENUE REVIEWER\n"
     ]
    },
    {
     "name": "stdin",
     "output_type": "stream",
     "text": [
      "Enter years of experience:  90\n",
      "Enter age:  09\n"
     ]
    },
    {
     "name": "stdout",
     "output_type": "stream",
     "text": [
      "Annual Tax Revenue (ATR): 550000\n"
     ]
    }
   ],
   "source": [
    "#\n",
    "print(\"IZIFIN TECHONOLOGY FINTECH NIGERIA\")\n",
    "print(\"ANNUAL TAX REVENUE REVIEWER\")\n",
    "\n",
    "# calculating ATR based on years of experience and age\n",
    "years_of_experience = int(input(\"Enter years of experience: \"))\n",
    "age = int(input(\"Enter age: \"))\n",
    "\n",
    "if years_of_experience > 25 and age >= 55:\n",
    "    atr = 5600000\n",
    "elif years_of_experience > 20 and age >= 45:\n",
    "    atr = 4480000\n",
    "elif years_of_experience > 10 and age >= 35:\n",
    "    atr = 1500000\n",
    "else:\n",
    "    atr = 550000\n",
    "\n",
    "print(\"Annual Tax Revenue (ATR):\", (atr))\n"
   ]
  },
  {
   "cell_type": "code",
   "execution_count": null,
   "id": "41f2da84-ebe8-4abc-96e8-4222365dec5a",
   "metadata": {},
   "outputs": [],
   "source": []
  }
 ],
 "metadata": {
  "kernelspec": {
   "display_name": "Python 3 (ipykernel)",
   "language": "python",
   "name": "python3"
  },
  "language_info": {
   "codemirror_mode": {
    "name": "ipython",
    "version": 3
   },
   "file_extension": ".py",
   "mimetype": "text/x-python",
   "name": "python",
   "nbconvert_exporter": "python",
   "pygments_lexer": "ipython3",
   "version": "3.11.7"
  }
 },
 "nbformat": 4,
 "nbformat_minor": 5
}
