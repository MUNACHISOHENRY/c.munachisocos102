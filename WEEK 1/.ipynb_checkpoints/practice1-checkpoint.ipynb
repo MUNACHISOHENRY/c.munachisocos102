{
 "cells": [
  {
   "cell_type": "code",
   "execution_count": 4,
   "id": "480c2fc0-c1eb-4f0d-905b-778a74207087",
   "metadata": {},
   "outputs": [
    {
     "name": "stdout",
     "output_type": "stream",
     "text": [
      "100\n",
      "Data Type of variable num is <class 'int'>\n"
     ]
    }
   ],
   "source": [
    "# Integer number\n",
    "num = 100\n",
    "print(num)\n",
    "print(\"Data Type of variable num is\", type (num))\n"
   ]
  },
  {
   "cell_type": "code",
   "execution_count": 5,
   "id": "ad798a24-d11b-4016-b331-f02a1b634aa8",
   "metadata": {
    "scrolled": true
   },
   "outputs": [
    {
     "name": "stdout",
     "output_type": "stream",
     "text": [
      "34.45\n",
      "Data Type of variable fnum is <class 'float'>\n"
     ]
    }
   ],
   "source": [
    "#float number\n",
    "fnum = 34.45\n",
    "print(fnum)\n",
    "print(\"Data Type of variable fnum is\", type(fnum))"
   ]
  },
  {
   "cell_type": "code",
   "execution_count": 6,
   "id": "84b13de7-4a2d-4eac-b45e-220a5609e18d",
   "metadata": {},
   "outputs": [
    {
     "name": "stdout",
     "output_type": "stream",
     "text": [
      "(3+4j)\n",
      "Data Type of variable cnum is <class 'complex'>\n"
     ]
    }
   ],
   "source": [
    "# complex number\n",
    "cnum = 3 + 4j\n",
    "print(cnum)\n",
    "print(\"Data Type of variable cnum is\", type(cnum))"
   ]
  },
  {
   "cell_type": "code",
   "execution_count": null,
   "id": "b4034bfa-d2ce-4400-8ff4-b6172fabcad8",
   "metadata": {},
   "outputs": [],
   "source": []
  }
 ],
 "metadata": {
  "kernelspec": {
   "display_name": "Python 3 (ipykernel)",
   "language": "python",
   "name": "python3"
  },
  "language_info": {
   "codemirror_mode": {
    "name": "ipython",
    "version": 3
   },
   "file_extension": ".py",
   "mimetype": "text/x-python",
   "name": "python",
   "nbconvert_exporter": "python",
   "pygments_lexer": "ipython3",
   "version": "3.11.7"
  }
 },
 "nbformat": 4,
 "nbformat_minor": 5
}
