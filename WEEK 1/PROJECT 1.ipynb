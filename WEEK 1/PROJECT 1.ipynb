{
 "cells": [
  {
   "cell_type": "code",
   "execution_count": 1,
   "id": "110e03ed-a1bf-4763-a9fd-c5a3af93f782",
   "metadata": {},
   "outputs": [
    {
     "name": "stdout",
     "output_type": "stream",
     "text": [
      "The simple interest is 2300.0\n"
     ]
    }
   ],
   "source": [
    "#listing out the parameters\n",
    "principal = 2000\n",
    "rate = 5\n",
    "time = 3\n",
    "\n",
    "#solving for simple interest\n",
    "rate_percentage = rate/100\n",
    "a = rate_percentage * time\n",
    "b = 1 + a\n",
    "simple_interest = principal * b\n",
    "print(\"The simple interest is\", simple_interest)\n"
   ]
  },
  {
   "cell_type": "code",
   "execution_count": 2,
   "id": "449a3a12-5ba8-4669-9891-17278549b53a",
   "metadata": {},
   "outputs": [
    {
     "name": "stdout",
     "output_type": "stream",
     "text": [
      "The compound interest is 2831.98\n"
     ]
    }
   ],
   "source": [
    "#solving for compound interest\n",
    "number_of_compounding_periods = 4\n",
    "time_in_years = 7\n",
    "\n",
    "#solving\n",
    "x = rate_percentage/number_of_compounding_periods\n",
    "y = (1 + x) ** (time_in_years * number_of_compounding_periods)\n",
    "compound_interest = principal * y\n",
    "r = round(compound_interest, 2)\n",
    "print(\"The compound interest is\", r)\n"
   ]
  },
  {
   "cell_type": "code",
   "execution_count": 3,
   "id": "f14b9f98-2f50-4141-a828-c9ab76d35747",
   "metadata": {},
   "outputs": [
    {
     "name": "stdout",
     "output_type": "stream",
     "text": [
      "The annuity plan is 6655.88\n"
     ]
    }
   ],
   "source": [
    "#solving for annuity plan\n",
    "pmt = 200\n",
    "z = y - 1\n",
    "c= z/x\n",
    "annuity_plan = pmt * c\n",
    "rv = round(annuity_plan,2)\n",
    "print(\"The annuity plan is\", rv)\n"
   ]
  },
  {
   "cell_type": "code",
   "execution_count": null,
   "id": "25002e3d-beed-47f9-b81b-86214f83fa7f",
   "metadata": {},
   "outputs": [],
   "source": []
  }
 ],
 "metadata": {
  "kernelspec": {
   "display_name": "Python 3 (ipykernel)",
   "language": "python",
   "name": "python3"
  },
  "language_info": {
   "codemirror_mode": {
    "name": "ipython",
    "version": 3
   },
   "file_extension": ".py",
   "mimetype": "text/x-python",
   "name": "python",
   "nbconvert_exporter": "python",
   "pygments_lexer": "ipython3",
   "version": "3.11.7"
  }
 },
 "nbformat": 4,
 "nbformat_minor": 5
}
