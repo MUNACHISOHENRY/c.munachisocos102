{
 "cells": [
  {
   "cell_type": "code",
   "execution_count": 1,
   "id": "b737a3af-e47f-495c-aaf2-5c2d1f9d5f46",
   "metadata": {},
   "outputs": [
    {
     "name": "stdout",
     "output_type": "stream",
     "text": [
      "Hi my name is Matthew. I am String\n",
      "<class 'str'>\n",
      "Hi my name is Precious. I am also a string\n",
      "<class 'str'>\n"
     ]
    }
   ],
   "source": [
    "#Python program to print strings and type\n",
    "str1 = \"Hi my name is Matthew. I am String\"\n",
    "str2 = 'Hi my name is Precious. I am also a string'\n",
    "\n",
    "# displaying string str1 and its type \n",
    "print(str1)\n",
    "print(type(str1))\n",
    "\n",
    "# displaying string str2 and its type \n",
    "print(str2)\n",
    "print(type(str2))"
   ]
  },
  {
   "cell_type": "code",
   "execution_count": null,
   "id": "aa52e623-1745-494d-89c3-2e2fc882c785",
   "metadata": {},
   "outputs": [],
   "source": []
  }
 ],
 "metadata": {
  "kernelspec": {
   "display_name": "Python 3 (ipykernel)",
   "language": "python",
   "name": "python3"
  },
  "language_info": {
   "codemirror_mode": {
    "name": "ipython",
    "version": 3
   },
   "file_extension": ".py",
   "mimetype": "text/x-python",
   "name": "python",
   "nbconvert_exporter": "python",
   "pygments_lexer": "ipython3",
   "version": "3.11.7"
  }
 },
 "nbformat": 4,
 "nbformat_minor": 5
}
